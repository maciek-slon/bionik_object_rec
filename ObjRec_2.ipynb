{
 "cells": [
  {
   "cell_type": "markdown",
   "metadata": {},
   "source": [
    "# Rozpoznawanie obiektów - lokalizacja w przestrzeni\n",
    "\n",
    "<h2 id=\"tocheading\">Table of Contents</h2>\n",
    "<div id=\"toc\"></div>\n",
    "\n",
    "## Sprawy techniczne"
   ]
  },
  {
   "cell_type": "code",
   "execution_count": 12,
   "metadata": {
    "collapsed": false
   },
   "outputs": [
    {
     "data": {
      "application/javascript": [
       "$.getScript('https://kmahelona.github.io/ipython_notebook_goodies/ipython_notebook_toc.js')"
      ],
      "text/plain": [
       "<IPython.core.display.Javascript object>"
      ]
     },
     "metadata": {},
     "output_type": "display_data"
    }
   ],
   "source": [
    "%%javascript\n",
    "$.getScript('https://kmahelona.github.io/ipython_notebook_goodies/ipython_notebook_toc.js')"
   ]
  },
  {
   "cell_type": "code",
   "execution_count": 18,
   "metadata": {
    "collapsed": true
   },
   "outputs": [],
   "source": [
    "%matplotlib inline\n",
    "\n",
    "import matplotlib\n",
    "import numpy as np\n",
    "import matplotlib.pyplot as plt\n",
    "import cv2\n",
    "\n",
    "from IPython.display import clear_output\n",
    "\n",
    "# Wyświetl obraz\n",
    "def show(img):\n",
    "    fig = plt.figure()\n",
    "    # sprawdź rozmiar obrazu\n",
    "    shp = len(img.shape)\n",
    "    ax = fig.add_axes([0, 0, 1, 1])\n",
    "    # dla kolorowych zmień kanały BGR-RGB\n",
    "    if shp == 3:\n",
    "        img = cv2.cvtColor(img, cv2.COLOR_BGR2RGB)\n",
    "        ax.imshow(img)\n",
    "    # dla szaroodcieniowych po prostu wyświetl\n",
    "    else:\n",
    "        ax.imshow(img, cmap=plt.cm.gray, vmin=0, vmax=255)\n",
    "    fig.show()"
   ]
  },
  {
   "cell_type": "markdown",
   "metadata": {},
   "source": [
    "## Jak powstaje obraz\n",
    "\n",
    "### Najprostsza kamera\n",
    "\n",
    "![](img2/frisius_01.jpg)\n",
    "![](img2/pinholecamera.jpg)\n",
    "![](img2/pinholecamera2.jpg)\n",
    "\n",
    "### To działa\n",
    "\n",
    "![](img2/eclipseimage.jpg)\n",
    "\n",
    "### Trochę bardziej teoretycznie\n",
    "\n",
    "![](img2/lens.jpg)\n"
   ]
  },
  {
   "cell_type": "code",
   "execution_count": 24,
   "metadata": {
    "collapsed": false
   },
   "outputs": [
    {
     "name": "stdout",
     "output_type": "stream",
     "text": [
      "Done\n"
     ]
    },
    {
     "data": {
      "text/plain": [
       "<matplotlib.figure.Figure at 0x7f9588644f90>"
      ]
     },
     "metadata": {},
     "output_type": "display_data"
    }
   ],
   "source": [
    "cap = cv2.VideoCapture(1)\n",
    "if not cap.isOpened():\n",
    "    cap.open(1)\n",
    "\n",
    "print cap.isOpened() \n",
    "\n",
    "try:\n",
    "    fig = plt.figure()\n",
    "    while True:\n",
    "        ret, frame = cap.read()\n",
    "        frame = cv2.cvtColor(frame, cv2.COLOR_BGR2RGB)\n",
    "        \n",
    "        # Convert the image from OpenCV BGR format to matplotlib RGB format\n",
    "        # to display the image\n",
    "        #frame = cv2.cvtColor(frame, cv2.COLOR_BGR2RGB)\n",
    "        # Turn off the axis\n",
    "        plt.axis('off')\n",
    "        # Title of the window\n",
    "        plt.title(\"Input Stream\")\n",
    "        # Display the frame\n",
    "        plt.imshow(frame)\n",
    "        plt.show()\n",
    "        # Display the frame until new frame is available\n",
    "        clear_output(wait=True)\n",
    "\n",
    "\n",
    "except KeyboardInterrupt:\n",
    "    cap.release()\n",
    "    print \"Done\""
   ]
  }
 ],
 "metadata": {
  "kernelspec": {
   "display_name": "Python 2",
   "language": "python",
   "name": "python2"
  },
  "language_info": {
   "codemirror_mode": {
    "name": "ipython",
    "version": 2
   },
   "file_extension": ".py",
   "mimetype": "text/x-python",
   "name": "python",
   "nbconvert_exporter": "python",
   "pygments_lexer": "ipython2",
   "version": "2.7.6"
  }
 },
 "nbformat": 4,
 "nbformat_minor": 0
}
