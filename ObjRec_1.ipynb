{
 "cells": [
  {
   "cell_type": "markdown",
   "metadata": {},
   "source": [
    "# Rozpoznawanie obiektów - przetwarzanie obrazów\n",
    "\n",
    "<h2 id=\"tocheading\">Table of Contents</h2>\n",
    "<div id=\"toc\"></div>\n",
    "\n",
    "## Sprawy techniczne"
   ]
  },
  {
   "cell_type": "code",
   "execution_count": 30,
   "metadata": {
    "collapsed": false
   },
   "outputs": [
    {
     "data": {
      "application/javascript": [
       "$.getScript('https://kmahelona.github.io/ipython_notebook_goodies/ipython_notebook_toc.js')"
      ],
      "text/plain": [
       "<IPython.core.display.Javascript object>"
      ]
     },
     "metadata": {},
     "output_type": "display_data"
    }
   ],
   "source": [
    "%%javascript\n",
    "$.getScript('https://kmahelona.github.io/ipython_notebook_goodies/ipython_notebook_toc.js')"
   ]
  },
  {
   "cell_type": "code",
   "execution_count": null,
   "metadata": {
    "collapsed": false
   },
   "outputs": [],
   "source": [
    "%matplotlib inline\n",
    "\n",
    "import matplotlib\n",
    "import numpy as np\n",
    "import matplotlib.pyplot as plt\n",
    "import cv2\n",
    "\n",
    "# Wyświetl obraz\n",
    "def show(img):\n",
    "    fig = plt.figure()\n",
    "    # sprawdź rozmiar obrazu\n",
    "    shp = len(img.shape)\n",
    "    ax = fig.add_axes([0, 0, 1, 1])\n",
    "    # dla kolorowych zmień kanały BGR-RGB\n",
    "    if shp == 3:\n",
    "        img = cv2.cvtColor(img, cv2.COLOR_BGR2RGB)\n",
    "        ax.imshow(img)\n",
    "    # dla szaroodcieniowych po prostu wyświetl\n",
    "    else:\n",
    "        ax.imshow(img, cmap=plt.cm.gray, vmin=0, vmax=255)"
   ]
  },
  {
   "cell_type": "markdown",
   "metadata": {},
   "source": [
    "### Ładowanie obrazów\n",
    "\n",
    "OpenCV: [cv2.imread(filename[, flags])](http://docs.opencv.org/2.4/modules/highgui/doc/reading_and_writing_images_and_video.html?highlight=imread#imread)"
   ]
  },
  {
   "cell_type": "code",
   "execution_count": null,
   "metadata": {
    "collapsed": false
   },
   "outputs": [],
   "source": [
    "img = cv2.imread(\"img/fruits.jpg\")\n",
    "show(img)\n",
    "(sy, sx, ch) = img.shape\n",
    "print \"sx:\", sx, \"sy:\", sy, \"channels:\", ch"
   ]
  },
  {
   "cell_type": "markdown",
   "metadata": {},
   "source": [
    "## Przestrzenie barw\n",
    "\n",
    "### Teoria\n",
    "\n",
    "* każdy kolor można przedstawić jako sumę conajwyżej trzech niezależnych składowych\n",
    "* przestrzenie addytywne i subtraktywne\n",
    "\n",
    "### Konwersje kolorystyczne w OpenCV\n",
    "\n",
    "[cv2.cvtColor(src, code[, dst[, dstCn]])](http://docs.opencv.org/2.4/modules/imgproc/doc/miscellaneous_transformations.html#cvtcolor)\n",
    "\n",
    "### Jak powstaje kolor na zdjęciu\n",
    "\n",
    "![](img/bayer.jpg)\n",
    "\n",
    "### RGB\n",
    "\n",
    "![](img/rgb_object.jpg)\n",
    "\n",
    "#### Uwagi\n",
    "\n",
    "OpenCV domyślnie ładuje obrazy w układzie **BGR**"
   ]
  },
  {
   "cell_type": "code",
   "execution_count": null,
   "metadata": {
    "collapsed": false
   },
   "outputs": [],
   "source": [
    "show(img[:,:,2])\n",
    "show(img[:,:,1])\n",
    "show(img[:,:,0])"
   ]
  },
  {
   "cell_type": "markdown",
   "metadata": {},
   "source": [
    "### Przestrzeń HSV\n",
    "\n",
    "![](img/color_space_hsv.jpg) \n",
    "\n",
    "![](img/photoshop-color-picker.jpg)"
   ]
  },
  {
   "cell_type": "code",
   "execution_count": null,
   "metadata": {
    "collapsed": false
   },
   "outputs": [],
   "source": [
    "hsv = cv2.cvtColor(img, cv2.COLOR_BGR2HSV)\n",
    "show(hsv[:,:,0])\n",
    "show(hsv[:,:,1])\n",
    "show(hsv[:,:,2])"
   ]
  },
  {
   "cell_type": "code",
   "execution_count": null,
   "metadata": {
    "collapsed": false
   },
   "outputs": [],
   "source": [
    "hvis = hsv.copy()\n",
    "hvis[:,:,1] = 255*np.ones((sy, sx))\n",
    "hvis[:,:,2] = 255*np.ones((sy, sx))\n",
    "hvis = cv2.cvtColor(hvis, cv2.COLOR_HSV2BGR)\n",
    "show(hvis)"
   ]
  },
  {
   "cell_type": "code",
   "execution_count": null,
   "metadata": {
    "collapsed": false
   },
   "outputs": [],
   "source": [
    "hvis2 = hsv.copy()\n",
    "[_, hvis2[:,:,1]] = cv2.threshold(hsv[:,:,1], 30, 255, cv2.THRESH_BINARY)\n",
    "hvis2[:,:,2] = 255*np.ones((sy, sx))\n",
    "hvis2 = cv2.cvtColor(hvis2, cv2.COLOR_HSV2BGR)\n",
    "show(hvis2)"
   ]
  },
  {
   "cell_type": "markdown",
   "metadata": {},
   "source": [
    "### Przestrzeń HSL\n",
    "\n",
    "![](img/hsl_img_2.jpg)\n",
    "\n",
    "![](img/paint_color.jpg)\n",
    "\n",
    "![](img/gimp.jpg)"
   ]
  },
  {
   "cell_type": "code",
   "execution_count": null,
   "metadata": {
    "collapsed": false
   },
   "outputs": [],
   "source": [
    "hsl = cv2.cvtColor(img, cv2.COLOR_BGR2HLS)\n",
    "show(hsl[:,:,0])\n",
    "show(hsl[:,:,2])\n",
    "show(hsl[:,:,1])"
   ]
  },
  {
   "cell_type": "markdown",
   "metadata": {},
   "source": [
    "## Operacje punktowe\n",
    "\n",
    "### Definicja\n",
    "\n",
    "$$\\forall{x,y}\\;I[x,y] = fun(I[x,y])$$\n",
    "\n",
    "### Progowanie"
   ]
  },
  {
   "cell_type": "code",
   "execution_count": null,
   "metadata": {
    "collapsed": false
   },
   "outputs": [],
   "source": [
    "thr = np.zeros((sy, sx), np.uint8)\n",
    "for y in range(sy):\n",
    "    for x in range(sx):\n",
    "        if img[y,x,0] < 230:\n",
    "            thr[y,x] = 255\n",
    "        else:\n",
    "            thr[y,x] = 0\n",
    "\n",
    "show(thr)"
   ]
  },
  {
   "cell_type": "code",
   "execution_count": null,
   "metadata": {
    "collapsed": false
   },
   "outputs": [],
   "source": [
    "thr2 = np.zeros((sy, sx), np.uint8)\n",
    "for y in range(sy):\n",
    "    for x in range(sx):\n",
    "        r = img[y,x,2]\n",
    "        g = img[y,x,1]\n",
    "        b = img[y,x,0]\n",
    "        if r < 128 and g > 80 and b < 88:\n",
    "            thr2[y,x] = 255\n",
    "        else:\n",
    "            thr2[y,x] = 0\n",
    "\n",
    "show(img)\n",
    "show(thr2)"
   ]
  },
  {
   "cell_type": "markdown",
   "metadata": {},
   "source": [
    "### Skala barwy H\n",
    "\n",
    "![](img/HueScale.png)"
   ]
  },
  {
   "cell_type": "code",
   "execution_count": null,
   "metadata": {
    "collapsed": false
   },
   "outputs": [],
   "source": [
    "thr3 = np.zeros((sy, sx), np.uint8)\n",
    "for y in range(sy):\n",
    "    for x in range(sx):\n",
    "        h = hsv[y,x,0]\n",
    "        s = hsv[y,x,1]\n",
    "        v = hsv[y,x,2]\n",
    "        if h > 28 and h < 90 and s > 50:\n",
    "            thr3[y,x] = 255\n",
    "        else:\n",
    "            thr3[y,x] = 0\n",
    "\n",
    "show(img)\n",
    "show(thr3)"
   ]
  },
  {
   "cell_type": "markdown",
   "metadata": {},
   "source": [
    "### Zmiana jasności"
   ]
  },
  {
   "cell_type": "code",
   "execution_count": null,
   "metadata": {
    "collapsed": false
   },
   "outputs": [],
   "source": [
    "val = 150\n",
    "\n",
    "br = img.copy()\n",
    "br = br + val\n",
    "show(br)"
   ]
  },
  {
   "cell_type": "code",
   "execution_count": null,
   "metadata": {
    "collapsed": false
   },
   "outputs": [],
   "source": [
    "br2 = img.copy()\n",
    "br2[:,:,0] = cv2.add(br2[:,:,0], val);\n",
    "br2[:,:,1] = cv2.add(br2[:,:,1], val);\n",
    "br2[:,:,2] = cv2.add(br2[:,:,2], val);\n",
    "show(br2)"
   ]
  },
  {
   "cell_type": "markdown",
   "metadata": {},
   "source": [
    "## Operacje obszarowe\n",
    "\n",
    "### Definicja\n",
    "\n",
    "* wartość zależy od wartości piksela **oraz jego otoczenia**\n",
    "* filtry rankingowe\n",
    "* filtry macierzowe\n",
    "\n",
    "### Rozmycie"
   ]
  },
  {
   "cell_type": "code",
   "execution_count": null,
   "metadata": {
    "collapsed": false
   },
   "outputs": [],
   "source": [
    "blur1 = cv2.GaussianBlur(img, (3, 3), 3)\n",
    "show(blur1)\n",
    "blur2 = cv2.GaussianBlur(img, (5, 5), 5)\n",
    "show(blur2)\n",
    "blur3 = cv2.GaussianBlur(img, (13, 13), 20)\n",
    "show(blur3)"
   ]
  },
  {
   "cell_type": "markdown",
   "metadata": {},
   "source": [
    "### Operacje morfologiczne"
   ]
  },
  {
   "cell_type": "code",
   "execution_count": null,
   "metadata": {
    "collapsed": false
   },
   "outputs": [],
   "source": [
    "show(thr)\n",
    "kernel = np.ones((3,3),np.uint8)\n",
    "kernel = np.array([ [0,1,1,1,0],\n",
    "                    [1,1,1,1,1],\n",
    "                    [1,1,1,1,1],\n",
    "                    [1,1,1,1,1],\n",
    "                    [0,1,1,1,0] ], np.uint8)\n",
    "\n",
    "#fil = cv2.dilate(thr, kernel, iterations = 1)\n",
    "#fil = cv2.erode(fil, kernel, iterations = 1)\n",
    "#show(fil)\n",
    "#kernel = np.array([ [0,1,1,1,0],\n",
    "#                    [1,1,1,1,1],\n",
    "#                    [1,1,1,1,1],\n",
    "#                    [1,1,1,1,1],\n",
    "#                    [0,1,1,1,0] ], np.uint8)\n",
    "\n",
    "opn = cv2.morphologyEx(thr, cv2.MORPH_CLOSE, kernel, iterations = 1)#\n",
    "opn = cv2.morphologyEx(opn, cv2.MORPH_OPEN, kernel, iterations = 2)\n",
    "show(opn)"
   ]
  },
  {
   "cell_type": "markdown",
   "metadata": {},
   "source": [
    "## Detekcja krawędzi\n",
    "\n",
    "[OpenCV::Canny](http://docs.opencv.org/2.4/doc/tutorials/imgproc/imgtrans/canny_detector/canny_detector.html)"
   ]
  },
  {
   "cell_type": "code",
   "execution_count": null,
   "metadata": {
    "collapsed": false
   },
   "outputs": [],
   "source": [
    "edges = opn.copy()\n",
    "edges = cv2.Canny(edges, 120, 220)\n",
    "show(edges)"
   ]
  },
  {
   "cell_type": "markdown",
   "metadata": {},
   "source": [
    "## Segmentacja obrazu - detekcja konturów"
   ]
  },
  {
   "cell_type": "code",
   "execution_count": null,
   "metadata": {
    "collapsed": false
   },
   "outputs": [],
   "source": [
    "all_contours, _ = cv2.findContours(edges, cv2.RETR_EXTERNAL, cv2.CHAIN_APPROX_SIMPLE)\n",
    "edge_img = img.copy()\n",
    "for i in range(len(all_contours)):\n",
    "    r = np.random.randint(100, 228)\n",
    "    g = np.random.randint(100, 228)\n",
    "    b = np.random.randint(100, 228)\n",
    "    cv2.drawContours(edge_img, all_contours, i, (b, g, r), 3)\n",
    "    # Filled\n",
    "    #cv2.drawContours(edge_img, all_contours, i, (b, g, r), -1)\n",
    "    \n",
    "#cv2.drawContours(edge_img, all_contours, 11, (b, g, r), -1)\n",
    "show(edge_img)"
   ]
  },
  {
   "cell_type": "markdown",
   "metadata": {},
   "source": [
    "### Wykorzystanie masek obrazu"
   ]
  },
  {
   "cell_type": "code",
   "execution_count": null,
   "metadata": {
    "collapsed": false
   },
   "outputs": [],
   "source": [
    "def get_mask(img):\n",
    "    hls = cv2.cvtColor(img, cv2.COLOR_BGR2HLS)\n",
    "    _, thr = cv2.threshold(hls[:,:,1], 230, 255, cv2.THRESH_BINARY_INV)\n",
    "    return thr\n",
    "\n",
    "def calc_mean_color(img, mask):\n",
    "    hls = cv2.cvtColor(img, cv2.COLOR_BGR2HLS)\n",
    "    mean_h = cv2.mean(hls[:,:,0], mask)\n",
    "    hist = cv2.calcHist([hls[:,:,0]], [0], mask, [30], [0, 180])\n",
    "    #plt.figure()\n",
    "    #plt.bar(range(30), hist)\n",
    "    hmax = 0\n",
    "    imax = 0\n",
    "    for i in range(len(hist)):\n",
    "        if hist[i] > hmax:\n",
    "            hmax = hist[i]\n",
    "            imax = i\n",
    "    #return mean_h[0]\n",
    "    return imax * 6\n",
    "\n",
    "fruits = [\"lemon\", \"banana\", \"orange\", \"apple\"]\n",
    "for f in fruits:\n",
    "    path = \"img/fruits/\" + f + \".jpg\"\n",
    "    fimg = cv2.imread(path)\n",
    "    show(fimg)\n",
    "    mask = get_mask(fimg)\n",
    "    col = calc_mean_color(fimg, mask)\n",
    "    print \"Mean color for\", f, \"is\", col\n"
   ]
  },
  {
   "cell_type": "code",
   "execution_count": null,
   "metadata": {
    "collapsed": true
   },
   "outputs": [],
   "source": []
  },
  {
   "cell_type": "markdown",
   "metadata": {
    "collapsed": true
   },
   "source": [
    "### Momenty geometryczne\n",
    "\n",
    "$$m_{ji}=\\sum_{x,y}img(x,y)\\cdot x^j \\cdot y^i$$\n",
    "\n",
    "* $m_{00}$ - pole powierzchni \n",
    "\n",
    "### Momenty centralne\n",
    "\n",
    "Wartość momentów centralnych nie zależy od położenia obiektu na obrazie\n",
    "\n",
    "$$mu_{ji}=\\sum_{x,y}img(x,y)\\cdot (x-\\bar{x})^j \\cdot (y-\\bar{y})^i$$\n",
    "\n",
    "$$\\bar{x} = \\frac{m_{10}}{m_{00}}\\;\\;\\;\\;\\bar{y} = \\frac{m_{01}}{m_{00}}$$\n",
    "\n",
    "### Momenty znormalizowane\n",
    "\n",
    "Wartość momentów znormalizowanych nie zależy od powierzchni obiektu\n",
    "\n",
    "$$nu_{ji} = \\frac{mu_{ji}}{m_{00}^{(i+j)/2+1}}$$"
   ]
  },
  {
   "cell_type": "code",
   "execution_count": null,
   "metadata": {
    "collapsed": false
   },
   "outputs": [],
   "source": [
    "fruits = [\"lemon\", \"banana\", \"orange\", \"apple\"]\n",
    "\n",
    "def calc_circularity(contour):\n",
    "    mom = cv2.moments(contour)\n",
    "    perim = cv2.arcLength(contour, True)\n",
    "    circ = 4 * 3.14 * mom[\"m00\"] / (perim*perim)\n",
    "    return circ\n",
    "\n",
    "for f in fruits:\n",
    "    path = \"img/fruits/\" + f + \".jpg\"\n",
    "    fimg = cv2.imread(path)\n",
    "    mask = get_mask(fimg)\n",
    "    contours, _ = cv2.findContours(mask.copy(), cv2.RETR_EXTERNAL, cv2.CHAIN_APPROX_SIMPLE)\n",
    "    cv2.drawContours(fimg, contours, 0, (255, 0, 0), 3)\n",
    "    #show(img)\n",
    "    print \"Circularity of\", f, \"is\", calc_circularity(contours[0])"
   ]
  },
  {
   "cell_type": "code",
   "execution_count": null,
   "metadata": {
    "collapsed": false
   },
   "outputs": [],
   "source": [
    "features = []\n",
    "\n",
    "for f in fruits:\n",
    "    path = \"img/fruits/\" + f + \".jpg\"\n",
    "    fimg = cv2.imread(path)\n",
    "    mask = get_mask(fimg)\n",
    "    contours, _ = cv2.findContours(mask.copy(), cv2.RETR_EXTERNAL, cv2.CHAIN_APPROX_SIMPLE)\n",
    "    cv2.drawContours(fimg, contours, 0, (255, 0, 0), 3)\n",
    "    col = calc_mean_color(fimg, mask)\n",
    "    circ = calc_circularity(contours[0])\n",
    "    features.append([col, circ])\n",
    "    show(fimg)\n",
    "    \n",
    "x_list = [x for [x,y] in features]\n",
    "y_list = [y for [x,y] in features]\n",
    "plt.figure()\n",
    "plt.scatter(x_list, y_list)"
   ]
  },
  {
   "cell_type": "code",
   "execution_count": null,
   "metadata": {
    "collapsed": false
   },
   "outputs": [],
   "source": [
    "\n",
    "\n",
    "def find_closest(obj, labels, features):\n",
    "    mindist = None\n",
    "    minid = None\n",
    "    for i in range(len(features)):\n",
    "        acc = 0\n",
    "        for j in range(len(obj)):\n",
    "            diff = obj[j] - features[i][j]\n",
    "            acc = acc + diff*diff\n",
    "        dist = acc\n",
    "        #print \"Dist to\", labels[i], dist\n",
    "        if not mindist or dist < mindist:\n",
    "            mindist = dist\n",
    "            minid = i\n",
    "            \n",
    "    return minid, mindist\n",
    "\n",
    "final_img = img.copy()\n",
    "\n",
    "objects = []\n",
    "for i in range(len(all_contours)):\n",
    "    cont = all_contours[i]\n",
    "    cv2.drawContours(final_img, all_contours, i, (0, 255, 0), 3)\n",
    "    if cv2.contourArea(cont) < 500:\n",
    "        print \"Contour\", i, \":\", cv2.contourArea(cont)\n",
    "        cv2.drawContours(final_img, all_contours, i, (0, 0, 255), 3)\n",
    "        continue\n",
    "    mom = cv2.moments(cont)\n",
    "    mx = mom[\"m10\"] / mom[\"m00\"]\n",
    "    my = mom[\"m01\"] / mom[\"m00\"]\n",
    "    mask_img = np.zeros((sy, sx), np.uint8)\n",
    "    cv2.drawContours(mask_img, [cont], 0, (255), -1)\n",
    "    #show(mask_img)\n",
    "    feat = [calc_mean_color(img, mask_img), calc_circularity(cont)]\n",
    "    objects.append(feat)\n",
    "    \n",
    "    mid, mdist = find_closest(feat, fruits, features)\n",
    "    cv2.putText(final_img, fruits[mid][0].upper(), (int(mx), int(my)), cv2.FONT_HERSHEY_SIMPLEX, 0.7, (255, 0, 255), 2)\n",
    "    #cv2.putText(final_img, str(i) + \"/\" + str(0.01*int(feat[0]*100)), (int(mx), int(my)), cv2.FONT_HERSHEY_SIMPLEX, 0.7, (255, 0, 255), 2)\n",
    "    \n",
    "x_list = [x for [x,y] in features]\n",
    "y_list = [y for [x,y] in features]\n",
    "plt.figure()\n",
    "plt.scatter(x_list, y_list)\n",
    "\n",
    "ox_list = [x for [x,y] in objects]\n",
    "oy_list = [y for [x,y] in objects]\n",
    "plt.scatter(ox_list, oy_list, marker = '.')\n",
    "show(final_img)"
   ]
  },
  {
   "cell_type": "code",
   "execution_count": null,
   "metadata": {
    "collapsed": false
   },
   "outputs": [],
   "source": []
  },
  {
   "cell_type": "code",
   "execution_count": null,
   "metadata": {
    "collapsed": true
   },
   "outputs": [],
   "source": []
  },
  {
   "cell_type": "code",
   "execution_count": null,
   "metadata": {
    "collapsed": true
   },
   "outputs": [],
   "source": []
  },
  {
   "cell_type": "code",
   "execution_count": null,
   "metadata": {
    "collapsed": true
   },
   "outputs": [],
   "source": []
  },
  {
   "cell_type": "code",
   "execution_count": null,
   "metadata": {
    "collapsed": true
   },
   "outputs": [],
   "source": []
  },
  {
   "cell_type": "code",
   "execution_count": null,
   "metadata": {
    "collapsed": true
   },
   "outputs": [],
   "source": []
  },
  {
   "cell_type": "code",
   "execution_count": null,
   "metadata": {
    "collapsed": true
   },
   "outputs": [],
   "source": []
  },
  {
   "cell_type": "code",
   "execution_count": null,
   "metadata": {
    "collapsed": true
   },
   "outputs": [],
   "source": []
  },
  {
   "cell_type": "code",
   "execution_count": null,
   "metadata": {
    "collapsed": true
   },
   "outputs": [],
   "source": []
  },
  {
   "cell_type": "code",
   "execution_count": null,
   "metadata": {
    "collapsed": false
   },
   "outputs": [],
   "source": []
  }
 ],
 "metadata": {
  "kernelspec": {
   "display_name": "Python 2",
   "language": "python",
   "name": "python2"
  },
  "language_info": {
   "codemirror_mode": {
    "name": "ipython",
    "version": 2
   },
   "file_extension": ".py",
   "mimetype": "text/x-python",
   "name": "python",
   "nbconvert_exporter": "python",
   "pygments_lexer": "ipython2",
   "version": "2.7.6"
  }
 },
 "nbformat": 4,
 "nbformat_minor": 0
}
